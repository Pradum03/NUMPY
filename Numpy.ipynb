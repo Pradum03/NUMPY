{
 "cells": [
  {
   "cell_type": "markdown",
   "id": "4e374f7c-e1e7-41c7-8067-68a084513435",
   "metadata": {},
   "source": [
    "NUMPY ASSIGNMENT"
   ]
  },
  {
   "cell_type": "code",
   "execution_count": 1,
   "id": "9d6c7031-0eb7-4a1d-a03a-378bbe76c463",
   "metadata": {},
   "outputs": [],
   "source": [
    "import numpy as np\n",
    "\n",
    "list_ = [ '1','2','3','4','5']\n",
    "\n",
    "array_list = np.array(object = list_)"
   ]
  },
  {
   "cell_type": "code",
   "execution_count": 2,
   "id": "af942a1b-c13e-4661-b47c-87e21439786b",
   "metadata": {},
   "outputs": [
    {
     "data": {
      "text/plain": [
       "array(['1', '2', '3', '4', '5'], dtype='<U1')"
      ]
     },
     "execution_count": 2,
     "metadata": {},
     "output_type": "execute_result"
    }
   ],
   "source": [
    "array_list"
   ]
  },
  {
   "cell_type": "markdown",
   "id": "b5f6c9e2-73a3-49e3-b505-6214e9b99d37",
   "metadata": {},
   "source": [
    "1. Is there any difference in the data type of variables list_ and array_list? If there is then write a code \n",
    "to print the data types of both the variables"
   ]
  },
  {
   "cell_type": "code",
   "execution_count": 3,
   "id": "94babe36-64db-4717-af4f-c669c9eb2ea3",
   "metadata": {},
   "outputs": [
    {
     "data": {
      "text/plain": [
       "list"
      ]
     },
     "execution_count": 3,
     "metadata": {},
     "output_type": "execute_result"
    }
   ],
   "source": [
    "type(list_)"
   ]
  },
  {
   "cell_type": "code",
   "execution_count": 4,
   "id": "7693cb2c-22f2-400e-a1c3-94a8a423ba92",
   "metadata": {},
   "outputs": [
    {
     "data": {
      "text/plain": [
       "numpy.ndarray"
      ]
     },
     "execution_count": 4,
     "metadata": {},
     "output_type": "execute_result"
    }
   ],
   "source": [
    "type(array_list)"
   ]
  },
  {
   "cell_type": "markdown",
   "id": "00f55207-68d9-4da2-b3c5-06e4052534e4",
   "metadata": {},
   "source": [
    "Thus we can observe that both the data types has been different."
   ]
  },
  {
   "cell_type": "markdown",
   "id": "36f90f7e-486d-4c23-840c-766cb90ee28a",
   "metadata": {},
   "source": [
    "2. Write a code to print the data type of each and every element of both the variables list_ and \n",
    "array_list."
   ]
  },
  {
   "cell_type": "code",
   "execution_count": 5,
   "id": "e4543e16-78e9-4337-8a9d-6c9e97ed5ff0",
   "metadata": {},
   "outputs": [
    {
     "name": "stdout",
     "output_type": "stream",
     "text": [
      "Data types of elements in list_:\n",
      "<class 'str'>\n",
      "<class 'str'>\n",
      "<class 'str'>\n",
      "<class 'str'>\n",
      "<class 'str'>\n"
     ]
    }
   ],
   "source": [
    "print(\"Data types of elements in list_:\")\n",
    "for elem in list_:\n",
    "    print(type(elem))"
   ]
  },
  {
   "cell_type": "code",
   "execution_count": 6,
   "id": "dd74d91a-31e1-489f-bcda-62592b05c9e1",
   "metadata": {},
   "outputs": [
    {
     "name": "stdout",
     "output_type": "stream",
     "text": [
      "Data types of elements in list_:\n",
      "<class 'numpy.str_'>\n",
      "<class 'numpy.str_'>\n",
      "<class 'numpy.str_'>\n",
      "<class 'numpy.str_'>\n",
      "<class 'numpy.str_'>\n"
     ]
    }
   ],
   "source": [
    "print(\"Data types of elements in list_:\")\n",
    "for elem in array_list:\n",
    "    print(type(elem))"
   ]
  },
  {
   "cell_type": "code",
   "execution_count": 10,
   "id": "31305dc9-b06e-40d9-8d06-13b1bda26c14",
   "metadata": {},
   "outputs": [],
   "source": [
    "array_list = np.array(object = list_, dtype = int)\n"
   ]
  },
  {
   "cell_type": "markdown",
   "id": "febdee91-9cf9-4431-81bf-fc538b5f219b",
   "metadata": {},
   "source": [
    "3. Will there be any difference in the data type of the elements present in both the variables, list_ and \n",
    "arra_list? If so then print the data types of each and every element present in both the variables, list_ \n",
    "and arra_list."
   ]
  },
  {
   "cell_type": "markdown",
   "id": "a6c3fae7-5de0-41b6-affa-203a6b16aa50",
   "metadata": {},
   "source": [
    "Yes there will be change in dtype of the elements in array_list but not in list_."
   ]
  },
  {
   "cell_type": "code",
   "execution_count": 13,
   "id": "68b01ca6-6c27-4243-9666-45beb4980073",
   "metadata": {},
   "outputs": [
    {
     "name": "stdout",
     "output_type": "stream",
     "text": [
      "Data types of elements in list_:\n",
      "<class 'str'>\n",
      "<class 'str'>\n",
      "<class 'str'>\n",
      "<class 'str'>\n",
      "<class 'str'>\n"
     ]
    }
   ],
   "source": [
    "print(\"Data types of elements in list_:\")\n",
    "for elem in list_:\n",
    "    print(type(elem))"
   ]
  },
  {
   "cell_type": "code",
   "execution_count": 14,
   "id": "5f276839-379c-4980-b254-3991a6e7de81",
   "metadata": {},
   "outputs": [
    {
     "name": "stdout",
     "output_type": "stream",
     "text": [
      "Data types of elements in list_:\n",
      "<class 'numpy.int64'>\n",
      "<class 'numpy.int64'>\n",
      "<class 'numpy.int64'>\n",
      "<class 'numpy.int64'>\n",
      "<class 'numpy.int64'>\n"
     ]
    }
   ],
   "source": [
    "print(\"Data types of elements in list_:\")\n",
    "for elem in array_list:\n",
    "    print(type(elem))"
   ]
  },
  {
   "cell_type": "code",
   "execution_count": 15,
   "id": "48a4e066-4b56-4e89-98ab-011fcb1c4034",
   "metadata": {},
   "outputs": [],
   "source": [
    "import numpy as np\n",
    "\n",
    "num_list = [ [ 1 , 2 , 3 ] , [ 4 , 5 , 6 ] ]\n",
    "\n",
    "num_array = np.array(object = num_list)"
   ]
  },
  {
   "cell_type": "markdown",
   "id": "9b43c7ea-9efa-4be6-9708-9207bfab60ba",
   "metadata": {},
   "source": [
    "4. Write a code to find the following characteristics of variable, num_array:\n",
    "\n",
    "(i)\t shape\n",
    "\n",
    "(ii) size"
   ]
  },
  {
   "cell_type": "code",
   "execution_count": 18,
   "id": "c5d6794f-707c-4a8b-a1a2-6b90112e95b8",
   "metadata": {},
   "outputs": [
    {
     "data": {
      "text/plain": [
       "6"
      ]
     },
     "execution_count": 18,
     "metadata": {},
     "output_type": "execute_result"
    }
   ],
   "source": [
    "num_array.size"
   ]
  },
  {
   "cell_type": "code",
   "execution_count": 20,
   "id": "2250dcec-3f6f-4f4f-bf89-aa358ffe0811",
   "metadata": {},
   "outputs": [
    {
     "data": {
      "text/plain": [
       "(2, 3)"
      ]
     },
     "execution_count": 20,
     "metadata": {},
     "output_type": "execute_result"
    }
   ],
   "source": [
    "num_array.shape"
   ]
  },
  {
   "cell_type": "markdown",
   "id": "31f941f8-2ddb-4bbd-bc8f-dc8e64557f57",
   "metadata": {},
   "source": [
    "5. Write a code to create numpy array of 3*3 matrix containing zeros only, using a numpy array \n",
    "creation function"
   ]
  },
  {
   "cell_type": "code",
   "execution_count": 24,
   "id": "f8954a17-031f-4346-bde3-b036fd69b465",
   "metadata": {},
   "outputs": [],
   "source": [
    "a = np.zeros((3, 3))\n"
   ]
  },
  {
   "cell_type": "code",
   "execution_count": 25,
   "id": "ae4d2909-4a11-4cdf-b6ef-ea988cd8e318",
   "metadata": {},
   "outputs": [
    {
     "data": {
      "text/plain": [
       "array([[0., 0., 0.],\n",
       "       [0., 0., 0.],\n",
       "       [0., 0., 0.]])"
      ]
     },
     "execution_count": 25,
     "metadata": {},
     "output_type": "execute_result"
    }
   ],
   "source": [
    "a"
   ]
  },
  {
   "cell_type": "markdown",
   "id": "bdcbe313-f19e-49f8-a3bb-e076660dae44",
   "metadata": {},
   "source": [
    "6.Create an identity matrix of shape (5,5) using numpy functions?"
   ]
  },
  {
   "cell_type": "code",
   "execution_count": 26,
   "id": "35928f38-e0cd-4257-9306-82a423140b6f",
   "metadata": {},
   "outputs": [],
   "source": [
    "b=np.eye(5,5)"
   ]
  },
  {
   "cell_type": "code",
   "execution_count": 27,
   "id": "27aa6f26-e08e-46f3-8f2f-3b7f757c6fdb",
   "metadata": {},
   "outputs": [
    {
     "data": {
      "text/plain": [
       "array([[1., 0., 0., 0., 0.],\n",
       "       [0., 1., 0., 0., 0.],\n",
       "       [0., 0., 1., 0., 0.],\n",
       "       [0., 0., 0., 1., 0.],\n",
       "       [0., 0., 0., 0., 1.]])"
      ]
     },
     "execution_count": 27,
     "metadata": {},
     "output_type": "execute_result"
    }
   ],
   "source": [
    "b"
   ]
  },
  {
   "cell_type": "code",
   "execution_count": null,
   "id": "009219f3-841f-4043-930b-719f9d968021",
   "metadata": {},
   "outputs": [],
   "source": []
  }
 ],
 "metadata": {
  "kernelspec": {
   "display_name": "Python 3 (ipykernel)",
   "language": "python",
   "name": "python3"
  },
  "language_info": {
   "codemirror_mode": {
    "name": "ipython",
    "version": 3
   },
   "file_extension": ".py",
   "mimetype": "text/x-python",
   "name": "python",
   "nbconvert_exporter": "python",
   "pygments_lexer": "ipython3",
   "version": "3.10.8"
  }
 },
 "nbformat": 4,
 "nbformat_minor": 5
}
